{
 "cells": [
  {
   "cell_type": "code",
   "execution_count": null,
   "metadata": {
    "scrolled": true
   },
   "outputs": [],
   "source": [
    "#import webdriver\n",
    "from selenium import webdriver\n",
    "#import key inputs for web driver\n",
    "from selenium.webdriver.common.keys import Keys\n",
    "import time\n",
    "#import numpy as np\n",
    "#import pandas as pd\n",
    "import random\n",
    "\n",
    "from selenium.webdriver.common.action_chains import ActionChains\n",
    "from tkinter import *\n",
    "#from pyvirtualdisplay import Display\n",
    "driver = webdriver.Chrome('/Users/berk/AnacondaProjects/chromedriver')\n"
   ]
  },
  {
   "cell_type": "code",
   "execution_count": null,
   "metadata": {
    "scrolled": true
   },
   "outputs": [],
   "source": [
    "def datamine(location):\n",
    "    #fetch the web site to grab the data\n",
    "    driver.get('https://udo.lubw.baden-wuerttemberg.de/projekte/alias.xhtml?alias=energieatlas&ShowMap.MmlItem.Id=solareEffizienz&ShowMap.BoundingBox=%20%20%20')\n",
    "\n",
    "    #making sure the address is clicked\n",
    "    filter = driver.find_element_by_css_selector('#j_idt330 > div > div > button')\n",
    "    filter.click()\n",
    "    driver.find_element_by_css_selector('body > div.ui-multiselect-menu.ui-widget.ui-widget-content.ui-corner-all.gazetteer-datasources-multiselect > div > ul > li:nth-child(1) > a > span:nth-child(2)').click()\n",
    "    #location button specified\n",
    "    loc_button = driver.find_element_by_css_selector(\"#autocomplete\")\n",
    "    #typing in the location\n",
    "    loc_button.click()\n",
    "    loc_button.clear()\n",
    "    for elements in location:\n",
    "        loc_button.send_keys(elements)\n",
    "        time.sleep(random.randrange(10,50)/400)\n",
    "    time.sleep(1)\n",
    "    #entering the result\n",
    "    loc_button.send_keys(Keys.DOWN)\n",
    "    time.sleep(1)\n",
    "    loc_button.send_keys(Keys.RETURN)\n",
    "    time.sleep(1)\n",
    "    #zoom in\n",
    "    zoom_button = driver.find_element_by_css_selector(\"#mapZoomIn\")\n",
    "    zoom_button.click()\n",
    "    zoom_button.click()\n",
    "    zoom_button.click()\n",
    "    zoom_button.click()\n",
    "    zoom_button.click()\n",
    "    zoom_button.click()\n",
    "    \n",
    "    #click to get the data\n",
    "    actions = ActionChains(driver)\n",
    "    actions.move_to_element_with_offset(loc_button, 10, 300).click().perform()\n",
    "    time.sleep(2)\n",
    "    #receiving data\n",
    "    data =  []\n",
    "    eignungsklasse = driver.find_element_by_css_selector(\"#wmsFeatureInfo > div > div.panel-body > table > tbody > tr:nth-child(3) > td:nth-child(2) > span\")\n",
    "    dachgroesse = driver.find_element_by_css_selector(\"#wmsFeatureInfo > div > div.panel-body > table > tbody > tr:nth-child(4) > td:nth-child(2) > span\")\n",
    "    data.append(eignungsklasse.text)\n",
    "    data.append(dachgroesse.text)\n",
    "    eignungsklasse = data[0]\n",
    "    dachgroesse = float(data[1])\n",
    "    print(dachgroesse)\n",
    "    if eignungsklasse == 'sehr gut':\n",
    "        income = 4*dachgroesse\n",
    "    elif eignungsklasse == 'gut':\n",
    "        income = 2.5*dachgroesse\n",
    "    else:\n",
    "        income = 'nicht geignet'\n",
    "    return income\n",
    "\n",
    "root=Tk()\n",
    "x= StringVar()\n",
    "label1 = Label(root,text='Please enter your address : ')\n",
    "entry1 = Entry(root,textvariable=x)\n",
    "button1 = Button(root,text='Submit',command=lambda:datamine(x.get()))\n",
    "label1.grid(row=0,column=0)\n",
    "entry1.grid(row=0,column=1)\n",
    "button1.grid(row=1,column=0)\n",
    "\n",
    "root.mainloop()\n"
   ]
  }
 ],
 "metadata": {
  "kernelspec": {
   "display_name": "Python 3",
   "language": "python",
   "name": "python3"
  },
  "language_info": {
   "codemirror_mode": {
    "name": "ipython",
    "version": 3
   },
   "file_extension": ".py",
   "mimetype": "text/x-python",
   "name": "python",
   "nbconvert_exporter": "python",
   "pygments_lexer": "ipython3",
   "version": "3.6.4"
  }
 },
 "nbformat": 4,
 "nbformat_minor": 2
}
